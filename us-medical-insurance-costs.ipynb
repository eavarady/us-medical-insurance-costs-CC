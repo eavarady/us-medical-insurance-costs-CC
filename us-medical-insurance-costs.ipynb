{
 "cells": [
  {
   "cell_type": "markdown",
   "metadata": {},
   "source": [
    "# U.S. Medical Insurance Costs"
   ]
  },
  {
   "cell_type": "markdown",
   "metadata": {},
   "source": [
    "## Overview\n",
    "\n",
    "This notebook explores a dataset of U.S. medical insurance records and summarizes patterns across demographic and lifestyle attributes. The analysis organizes the raw CSV data into Python lists and encapsulates common computations in a small utility class.\n",
    "\n",
    "The dataset (insurance.csv) contains the following columns:\n",
    "- age (years)\n",
    "- sex (female/male)\n",
    "- bmi (body mass index)\n",
    "- children (number of dependents)\n",
    "- smoker (yes/no)\n",
    "- region (U.S. region)\n",
    "- charges (annual medical insurance cost in USD)\n",
    "\n",
    "Results include an average patient age, counts by sex, the set of unique regions represented, and an average annual insurance charge. A consolidated patient dictionary is also produced to facilitate later exploration.\n",
    "\n",
    "Implementation notes are embedded as TODO comments in code cells."
   ]
  },
  {
   "cell_type": "code",
   "execution_count": 7,
   "metadata": {},
   "outputs": [],
   "source": [
    "import csv"
   ]
  },
  {
   "cell_type": "markdown",
   "metadata": {},
   "source": [
    "## Data containers\n",
    "\n",
    "Seven lists serve as simple, readable containers for each column from the CSV file: ages, sexes, bmis, children, smokers, regions, and charges. This structure mirrors the file layout and keeps the analysis approachable without external libraries."
   ]
  },
  {
   "cell_type": "code",
   "execution_count": 8,
   "metadata": {},
   "outputs": [],
   "source": [
    "ages = []\n",
    "sexes = []\n",
    "bmis = []\n",
    "children = []\n",
    "smokers = []\n",
    "regions = []\n",
    "charges = []"
   ]
  },
  {
   "cell_type": "markdown",
   "metadata": {},
   "source": [
    "## Loading utility\n",
    "\n",
    "A small helper function reads the CSV with Python’s built-in csv module and appends values from a specified column into a provided list. Using a single loader avoids repeating similar file-reading loops and centralizes assumptions about the input format."
   ]
  },
  {
   "cell_type": "code",
   "execution_count": 9,
   "metadata": {},
   "outputs": [],
   "source": [
    "def load_data(list_name, csv_file, column_name):\n",
    "    with open(csv_file, newline='') as csvfile:\n",
    "        csv_dict = csv.DictReader(csvfile)\n",
    "        for row in csv_dict:\n",
    "            list_name.append(row[column_name])\n",
    "\n",
    "    return list_name"
   ]
  },
  {
   "cell_type": "markdown",
   "metadata": {},
   "source": [
    "## Column ingestion\n",
    "\n",
    "Each list is populated from the corresponding column in the CSV file (age, sex, bmi, children, smoker, region, charges). Values are read as strings at first, deferring type conversion until the analysis step where numeric operations are needed."
   ]
  },
  {
   "cell_type": "code",
   "execution_count": 10,
   "metadata": {},
   "outputs": [
    {
     "name": "stdout",
     "output_type": "stream",
     "text": [
      "['19', '18', '28', '33', '32', '31', '46', '37', '37', '60']\n",
      "['female', 'male', 'male', 'male', 'male', 'female', 'female', 'female', 'male', 'female']\n",
      "['27.9', '33.77', '33', '22.705', '28.88', '25.74', '33.44', '27.74', '29.83', '25.84']\n",
      "['0', '1', '3', '0', '0', '0', '1', '3', '2', '0']\n",
      "['yes', 'no', 'no', 'no', 'no', 'no', 'no', 'no', 'no', 'no']\n",
      "['southwest', 'southeast', 'southeast', 'northwest', 'northwest', 'southeast', 'southeast', 'northwest', 'northeast', 'northwest']\n",
      "['16884.924', '1725.5523', '4449.462', '21984.47061', '3866.8552', '3756.6216', '8240.5896', '7281.5056', '6406.4107', '28923.13692']\n"
     ]
    }
   ],
   "source": [
    "# call load_list_data(...) for each column\n",
    "load_data(ages, 'insurance.csv', 'age')\n",
    "load_data(sexes, 'insurance.csv', 'sex')\n",
    "load_data(bmis, 'insurance.csv', 'bmi')\n",
    "load_data(children, 'insurance.csv', 'children')\n",
    "load_data(smokers, 'insurance.csv', 'smoker')\n",
    "load_data(regions, 'insurance.csv', 'region')\n",
    "load_data(charges, 'insurance.csv', 'charges')\n",
    "\n",
    "# print first 10 items in each list to verify data was loaded correctly\n",
    "print(ages[:10])\n",
    "print(sexes[:10])\n",
    "print(bmis[:10])\n",
    "print(children[:10])\n",
    "print(smokers[:10])\n",
    "print(regions[:10])\n",
    "print(charges[:10])"
   ]
  },
  {
   "cell_type": "markdown",
   "metadata": {},
   "source": [
    "## Analysis class\n",
    "\n",
    "The PatientsInfo class encapsulates simple computations on the loaded lists. Methods include:\n",
    "- average_age: computes the mean patient age (rounded)\n",
    "- analyze_sexes: reports counts by sex\n",
    "- unique_regions: collects the distinct regions present\n",
    "- average_charges: computes the mean annual charge (rounded)\n",
    "- create_dictionary: assembles a dictionary view of the dataset\n",
    "\n",
    "Numeric casting (e.g., age to int, charges to float) occurs inside methods to keep the data containers uniform."
   ]
  },
  {
   "cell_type": "code",
   "execution_count": 11,
   "metadata": {},
   "outputs": [],
   "source": [
    "# TODO: implement the PatientsInfo class and its methods\n",
    "class PatientsInfo:\n",
    "    def __init__(self, ages, sexes, bmis, children, smokers, regions, charges):\n",
    "        self.ages = ages\n",
    "        self.sexes = sexes\n",
    "        self.bmis = bmis\n",
    "        self.children = children\n",
    "        self.smokers = smokers\n",
    "        self.regions = regions\n",
    "        self.charges = charges\n",
    "\n",
    "    def average_age(self):\n",
    "        return sum(map(int, self.ages)) / len(self.ages)\n",
    "\n",
    "    def average_bmi(self):\n",
    "        return sum(map(float, self.bmis)) / len(self.bmis)\n",
    "\n",
    "    def average_children(self):\n",
    "        return sum(map(int, self.children)) / len(self.children)\n",
    "\n",
    "    def smoker_percentage(self):\n",
    "        return sum(1 for x in self.smokers if x == \"yes\") / len(self.smokers) * 100\n",
    "    \n",
    "    def smoker_to_charge_ratio(self):\n",
    "        smoker_charges = [float(self.charges[i]) for i in range(len(self.smokers)) if self.smokers[i] == \"yes\"]\n",
    "        non_smoker_charges = [float(self.charges[i]) for i in range(len(self.smokers)) if self.smokers[i] == \"no\"]\n",
    "        avg_smoker_charge = sum(smoker_charges) / len(smoker_charges) if smoker_charges else 0\n",
    "        avg_non_smoker_charge = sum(non_smoker_charges) / len(non_smoker_charges) if non_smoker_charges else 0\n",
    "        return avg_smoker_charge / avg_non_smoker_charge if avg_non_smoker_charge != 0 else float('inf')\n",
    "    \n",
    "    def average_charge(self):\n",
    "        return sum(map(float, self.charges)) / len(self.charges)\n",
    "\n",
    "    def analyze_sexes(self):\n",
    "        females = sum(1 for i in self.sexes if i == \"female\")\n",
    "        males = sum(1 for i in self.sexes if i == \"male\")\n",
    "        return {\"female\": females, \"male\": males}\n",
    "\n",
    "    def unique_regions(self):\n",
    "        return set(self.regions)\n",
    "\n",
    "    def create_dictionary(self):\n",
    "        return {\n",
    "            \"ages\": self.ages,\n",
    "            \"sexes\": self.sexes,\n",
    "            \"bmis\": self.bmis,\n",
    "            \"children\": self.children,\n",
    "            \"smokers\": self.smokers,\n",
    "            \"regions\": self.regions,\n",
    "            \"charges\": self.charges\n",
    "        }\n",
    "    \n",
    "    def print_summary(self):\n",
    "        print(f\"Average Age: {self.average_age()}\")\n",
    "        print(f\"Average BMI: {self.average_bmi()}\")\n",
    "        print(f\"Average Number of Children: {self.average_children()}\")\n",
    "        print(f\"Smoker Percentage: {self.smoker_percentage()}%\")\n",
    "        print(f\"Smoker to Charge Ratio: {self.smoker_to_charge_ratio()}\")\n",
    "        print(f\"Average Charge: ${self.average_charge()}\")\n",
    "        print(f\"Unique Regions: {self.unique_regions()}\")\n",
    "        "
   ]
  },
  {
   "cell_type": "markdown",
   "metadata": {},
   "source": [
    "## Results checkpoint\n",
    "\n",
    "An instance of PatientsInfo provides a quick snapshot of the dataset: the average age of the population, sex distribution, the set of represented regions, and the typical annual charge. A dictionary representation is also produced for downstream uses such as plotting or grouping."
   ]
  },
  {
   "cell_type": "code",
   "execution_count": 12,
   "metadata": {},
   "outputs": [
    {
     "name": "stdout",
     "output_type": "stream",
     "text": [
      "Average Age: 39.20702541106129\n",
      "Average BMI: 30.663396860986538\n",
      "Average Number of Children: 1.0949177877429\n",
      "Smoker Percentage: 20.47832585949178%\n",
      "Smoker to Charge Ratio: 3.8000014582983206\n",
      "Average Charge: $13270.422265141257\n",
      "Unique Regions: {'southeast', 'southwest', 'northwest', 'northeast'}\n"
     ]
    }
   ],
   "source": [
    "# TODO: create an instance and call each method\n",
    "patients_info = PatientsInfo(ages, sexes, bmis, children, smokers, regions, charges)\n",
    "\n",
    "patients_info.average_age()\n",
    "patients_info.average_bmi()\n",
    "patients_info.average_children()\n",
    "patients_info.smoker_percentage()\n",
    "patients_info.smoker_to_charge_ratio()\n",
    "patients_info.average_charge()\n",
    "patients_info.analyze_sexes()\n",
    "patients_info.unique_regions()\n",
    "patients_info.create_dictionary()\n",
    "\n",
    "patients_info.print_summary()"
   ]
  },
  {
   "cell_type": "markdown",
   "metadata": {},
   "source": [
    "## Further exploration\n",
    "\n",
    "Additional avenues include distributional summaries (min, max, median, standard deviation of age), comparisons of average charges by smoker status, region, or number of children, BMI category analyses, and basic correlation checks between numeric attributes. Such extensions can remain in pure Python or transition to libraries like pandas and numpy for convenience."
   ]
  }
 ],
 "metadata": {
  "kernelspec": {
   "display_name": "Python 3",
   "language": "python",
   "name": "python3"
  },
  "language_info": {
   "codemirror_mode": {
    "name": "ipython",
    "version": 3
   },
   "file_extension": ".py",
   "mimetype": "text/x-python",
   "name": "python",
   "nbconvert_exporter": "python",
   "pygments_lexer": "ipython3",
   "version": "3.11.9"
  }
 },
 "nbformat": 4,
 "nbformat_minor": 4
}
