{
 "cells": [
  {
   "cell_type": "markdown",
   "metadata": {},
   "source": [
    "# U.S. Medical Insurance Costs"
   ]
  },
  {
   "cell_type": "markdown",
   "metadata": {},
   "source": [
    "Importing csv module and opening insurance.csv as csvfile with DictReader, printing first 5 rows as test.\n",
    "\n",
    "Each columns is saved as a dictionary, reader reads each row as a dictionary, using the column headers as keys."
   ]
  },
  {
   "cell_type": "code",
   "execution_count": 5,
   "metadata": {},
   "outputs": [
    {
     "name": "stdout",
     "output_type": "stream",
     "text": [
      "Ages: [19, 18, 28, 33, 32]\n",
      "Sexes: ['female', 'male', 'male', 'male', 'male']\n",
      "BMIs: [27.9, 33.77, 33.0, 22.705, 28.88]\n",
      "Children: [0, 1, 3, 0, 0]\n",
      "Smokers: ['yes', 'no', 'no', 'no', 'no']\n",
      "Regions: ['southwest', 'southeast', 'southeast', 'northwest', 'northwest']\n",
      "Charges: [16884.924, 1725.5523, 4449.462, 21984.47061, 3866.8552]\n"
     ]
    }
   ],
   "source": [
    "import csv\n",
    "\n",
    "ages = []\n",
    "sexes = []\n",
    "bmis = []\n",
    "children = []\n",
    "smokers = []\n",
    "regions = []\n",
    "charges = []\n",
    "\n",
    "with open('insurance.csv', newline='') as csvfile:\n",
    "    reader = csv.DictReader(csvfile)\n",
    "    for row in reader:\n",
    "        ages.append(int(row['age']))\n",
    "        sexes.append(row['sex'])\n",
    "        bmis.append(float(row['bmi']))\n",
    "        children.append(int(row['children']))\n",
    "        smokers.append(row['smoker'])\n",
    "        regions.append(row['region'])\n",
    "        charges.append(float(row['charges']))\n",
    "\n",
    "# Display the first 5 entries for each feature as a check\n",
    "print('Ages:', ages[:5])\n",
    "print('Sexes:', sexes[:5])\n",
    "print('BMIs:', bmis[:5])\n",
    "print('Children:', children[:5])\n",
    "print('Smokers:', smokers[:5])\n",
    "print('Regions:', regions[:5])\n",
    "print('Charges:', charges[:5])"
   ]
  },
  {
   "cell_type": "code",
   "execution_count": null,
   "metadata": {},
   "outputs": [],
   "source": []
  }
 ],
 "metadata": {
  "kernelspec": {
   "display_name": "Python 3",
   "language": "python",
   "name": "python3"
  },
  "language_info": {
   "codemirror_mode": {
    "name": "ipython",
    "version": 3
   },
   "file_extension": ".py",
   "mimetype": "text/x-python",
   "name": "python",
   "nbconvert_exporter": "python",
   "pygments_lexer": "ipython3",
   "version": "3.11.9"
  }
 },
 "nbformat": 4,
 "nbformat_minor": 4
}
